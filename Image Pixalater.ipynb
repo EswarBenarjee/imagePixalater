{
 "cells": [
  {
   "cell_type": "code",
   "execution_count": 5,
   "id": "c6f5f0ae",
   "metadata": {},
   "outputs": [],
   "source": [
    "def backslash():\n",
    "    return '//'[0]"
   ]
  },
  {
   "cell_type": "code",
   "execution_count": 1,
   "id": "e205123a",
   "metadata": {},
   "outputs": [
    {
     "name": "stdout",
     "output_type": "stream",
     "text": [
      "Please enter your path: C:/Users/eswar/Documents/Projects/Image Pixalater/images/\n"
     ]
    }
   ],
   "source": [
    "mypath = input(\"Please enter your path: \")"
   ]
  },
  {
   "cell_type": "code",
   "execution_count": 2,
   "id": "c2476e37",
   "metadata": {},
   "outputs": [],
   "source": [
    "#Importing libraries.\n",
    "\n",
    "#Importing OS, used for saving files and changing file directories\n",
    "from os import listdir\n",
    "from os.path import isfile, join\n",
    "\n",
    "# Importing PIL, used for all Image data manipulation purposes\n",
    "from PIL import Image\n",
    "import os\n",
    "import PIL\n",
    "import glob\n",
    "from PIL import Image"
   ]
  },
  {
   "cell_type": "code",
   "execution_count": 3,
   "id": "dd000e58",
   "metadata": {},
   "outputs": [
    {
     "name": "stdout",
     "output_type": "stream",
     "text": [
      "['19341A0546-min.jpg']\n"
     ]
    }
   ],
   "source": [
    "# List all the files in the images folder\n",
    "\n",
    "onlyfiles = [f for f in listdir(mypath) if isfile(join(mypath, f))]\n",
    "print(onlyfiles)"
   ]
  },
  {
   "cell_type": "code",
   "execution_count": 23,
   "id": "b18bfe4d",
   "metadata": {},
   "outputs": [],
   "source": [
    "#Image Pixalating\n",
    "for i in onlyfiles:\n",
    "    img = Image.open(mypath+i)\n",
    "    imgSmall = img.resize((100, 100))\n",
    "    result = imgSmall.resize(img.size, Image.NEAREST)\n",
    "    pixalated_path = mypath+'pixalated'+backslash()+i\n",
    "    result.save(pixalated_path)\n",
    "    os.startfile(pixalated_path)\n",
    "    \n",
    "    #Uncomment below line if you want to remove files after blurring\n",
    "    #os.remove(mypath+i)"
   ]
  },
  {
   "cell_type": "code",
   "execution_count": null,
   "id": "391ef496",
   "metadata": {},
   "outputs": [],
   "source": []
  }
 ],
 "metadata": {
  "kernelspec": {
   "display_name": "Python 3 (ipykernel)",
   "language": "python",
   "name": "python3"
  },
  "language_info": {
   "codemirror_mode": {
    "name": "ipython",
    "version": 3
   },
   "file_extension": ".py",
   "mimetype": "text/x-python",
   "name": "python",
   "nbconvert_exporter": "python",
   "pygments_lexer": "ipython3",
   "version": "3.9.7"
  }
 },
 "nbformat": 4,
 "nbformat_minor": 5
}
